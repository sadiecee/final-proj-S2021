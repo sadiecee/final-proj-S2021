{
  "nbformat": 4,
  "nbformat_minor": 0,
  "metadata": {
    "colab": {
      "name": "wayback_webscrape.ipynb",
      "provenance": [],
      "collapsed_sections": []
    },
    "kernelspec": {
      "name": "python3",
      "display_name": "Python 3"
    },
    "language_info": {
      "name": "python"
    }
  },
  "cells": [
    {
      "cell_type": "code",
      "metadata": {
        "id": "Xm7HPCqg3e9Q",
        "colab": {
          "base_uri": "https://localhost:8080/"
        },
        "outputId": "b3f9e074-454d-4712-ce5d-297d61c1f407"
      },
      "source": [
        "'''\n",
        "Sadie Murray\n",
        "Python 3 \n",
        "4.9.2021\n",
        "This code uses an API to compile URLs for certain websites on the Internet Archive Wayback Machine. It takes a user input of a keyword and \n",
        "searches the titles of all news articles within the compiled URLs for each webpage (this particular code uses NBC). The output is a list of \n",
        "article titles and links to news articles containing a given keyword on NBC (or given news site) archived by the Wayback Machine. \n",
        "'''\n",
        "\n",
        "import sys\n",
        "import requests as rq\n",
        "from bs4 import BeautifulSoup as bs\n",
        "from time import sleep\n",
        "from time import time\n",
        "from random import randint\n",
        "from warnings import warn\n",
        "import json\n",
        "import pandas as pd\n",
        "\n",
        "#inputs keyword to search in the article titles for \n",
        "strng = str(input(\"Select a single keyword you would like to search here: \")) #input string keyword\n",
        "\n",
        "#this code compiles a list of URLs using the Wayback Server CDX API \n",
        "url = 'http://web.archive.org/cdx/search/cdx?url=nbcnews.com/politics&collapse=digest&from=20190401&to=20190431&output=json'\n",
        "urls = rq.get(url).text\n",
        "parse_url = json.loads(urls) #parses the JSON from urls.\n",
        "\n",
        "##establishes empty lists \n",
        "url_list = []\n",
        "news_title = []\n",
        "news_url = []\n",
        "\n",
        "#uses the timestamp and URL from the API in order to construct a new \"wayback\" url to scrape the necessary data \n",
        "for i in range(1,len(parse_url)):\n",
        "    orig_url = parse_url[i][2] #parses the API URL to splice it at the webpage address \n",
        "    tstamp = parse_url[i][1] #this parses the API URL to slice it at the timestamp address\n",
        "    waylink = tstamp+'/'+orig_url #creates the new URL link on the Wayback Machine\n",
        "    url_list.append(waylink) #adds the URL to the URL list to extract data from \n",
        "\n",
        "#takes each URL in the list to get the article title for that timestamp \n",
        "for url in url_list:\n",
        "    final_url = 'https://web.archive.org/web/'+url \n",
        "    pg = rq.get(final_url).text #uses the request function to get the text from the final URL\n",
        "    soup = bs(pg,'html.parser') #makes the soup \n",
        "    articles = soup.find_all('article') #finds and stores the information from the article div tag (contains the article title)\n",
        "    for article in articles:\n",
        "      if article != None: \n",
        "        if article.find_all('h2') != None:  \n",
        "          title = article.find_all('h2')[1].a.text #extracts just the text of the title \n",
        "          link = article.find_all('h2')[1].a['href'] \n",
        "          if title not in news_title: #compares the title of the article to an empty list to make sure there are no repeats\n",
        "            news_title.append(title) #adds new titles to a fresh list\n",
        "            title_url = title+final_url #creates a new variable that is a concatenated version of the title and the link \n",
        "            news_url.append(title_url) #adds this variable to an empty list \n",
        "\n",
        "# this takes a user input keyword and prints all articles containing that keyword \n",
        "related_articles = [] #initializes empty list\n",
        "for article in news_title:\n",
        "  article_words = article.split() #takes each article title and divides it into individual words\n",
        "  if strng in article_words: #if the keyword is in one of the words, joins words into article title and adds article title to empty list\n",
        "    article_titles = ' '.join(article_words)\n",
        "    related_articles.append(article_titles)\n",
        "\n",
        "# this takes a user input keyword and prints all articles containing that keyword plus the URL\n",
        "related_links = [] #initalizes empty list\n",
        "for link in news_url: #starts for loop\n",
        "  link_words = link.split() #takes each article title and divides it into individual words\n",
        "  if strng in link_words: #if the keyword is in one of the words, joins words into article title and adds article title to empty list\n",
        "    article_link = ' '.join(link_words)\n",
        "    article_link = article_link.replace('https://web','. To the article in full, visit: https://web') #alters the display to read cleaner\n",
        "    related_links.append(article_link)\n",
        "\n",
        "related_links #prints all articles related to the keyword \n",
        "\n",
        "\n",
        "\n",
        "\n"
      ],
      "execution_count": 25,
      "outputs": [
        {
          "output_type": "stream",
          "text": [
            "Select a single keyword you would like to search here: Court\n"
          ],
          "name": "stdout"
        },
        {
          "output_type": "execute_result",
          "data": {
            "text/plain": [
              "['Supreme Court OKs lethal injection for Missouri death row inmate with rare health issue. To the article in full, visit: https://web.archive.org/web/20190402202048/https://www.nbcnews.com/politics',\n",
              " 'Supreme Court asked to void Louisiana law that could leave state with one clinic. To the article in full, visit: https://web.archive.org/web/20190418210952/https://www.nbcnews.com/politics',\n",
              " 'Supreme Court appears likely to allow citizenship question in 2020 census. To the article in full, visit: https://web.archive.org/web/20190423202630/https://www.nbcnews.com/politics',\n",
              " 'Supreme Court to decide if 2020 census can ask about citizenship. To the article in full, visit: https://web.archive.org/web/20190423215636/https://www.nbcnews.com/politics',\n",
              " 'Supreme Court to rule whether civil rights law bans discrimination against LGBTQ employees. To the article in full, visit: https://web.archive.org/web/20190425094435/https://www.nbcnews.com/politics']"
            ]
          },
          "metadata": {
            "tags": []
          },
          "execution_count": 25
        }
      ]
    },
    {
      "cell_type": "code",
      "metadata": {
        "id": "gUaNTxyjrtJz"
      },
      "source": [
        ""
      ],
      "execution_count": null,
      "outputs": []
    }
  ]
}